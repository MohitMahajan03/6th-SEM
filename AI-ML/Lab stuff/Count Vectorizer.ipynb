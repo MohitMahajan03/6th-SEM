{
 "cells": [
  {
   "cell_type": "code",
   "execution_count": 1,
   "id": "c4d3f9a4",
   "metadata": {},
   "outputs": [
    {
     "name": "stdout",
     "output_type": "stream",
     "text": [
      "(('J1', 'J2'), ('C1', 'C2'), ('M1', 'M2'))\n"
     ]
    }
   ],
   "source": [
    "a = (\"J1\", \"C1\", \"M1\")\n",
    "b = (\"J2\", \"C2\", \"M2\")\n",
    "x = zip(a, b)\n",
    "print(tuple(x))"
   ]
  },
  {
   "cell_type": "code",
   "execution_count": 4,
   "id": "52cbfd25",
   "metadata": {},
   "outputs": [],
   "source": [
    "from sklearn.feature_extraction.text import CountVectorizer\n",
    "corpus = [\n",
    "    \"This is the first document\",\n",
    "    \"This document is the second document\",\n",
    "    \"And this is the third document\",\n",
    "    \"Is this the first document?\"\n",
    "]"
   ]
  },
  {
   "cell_type": "code",
   "execution_count": 6,
   "id": "935e4e21",
   "metadata": {},
   "outputs": [
    {
     "name": "stdout",
     "output_type": "stream",
     "text": [
      "['and' 'document' 'first' 'is' 'second' 'the' 'third' 'this']\n",
      "[[0 1 1 1 0 1 0 1]\n",
      " [0 2 0 1 1 1 0 1]\n",
      " [1 1 0 1 0 1 1 1]\n",
      " [0 1 1 1 0 1 0 1]]\n"
     ]
    }
   ],
   "source": [
    "vectorizer = CountVectorizer()\n",
    "x = vectorizer.fit_transform(corpus)\n",
    "print(vectorizer.get_feature_names_out())\n",
    "print(x.toarray())"
   ]
  },
  {
   "cell_type": "markdown",
   "id": "0ec8c19d",
   "metadata": {},
   "source": [
    "## Using .csv file"
   ]
  },
  {
   "cell_type": "code",
   "execution_count": 18,
   "id": "11b6ae07",
   "metadata": {},
   "outputs": [],
   "source": [
    "import pandas as pd"
   ]
  },
  {
   "cell_type": "code",
   "execution_count": 21,
   "id": "aa38d07d",
   "metadata": {},
   "outputs": [],
   "source": [
    "msg = pd.read_csv(\"6.csv\")"
   ]
  },
  {
   "cell_type": "code",
   "execution_count": 22,
   "id": "a347f141",
   "metadata": {},
   "outputs": [
    {
     "name": "stdout",
     "output_type": "stream",
     "text": [
      "total no of words in dataset 18\n"
     ]
    }
   ],
   "source": [
    "print(f\"total no of words in dataset {msg.shape[0]}\")\n",
    "msg['labelnum'] = msg.label.map({\"pos\" : 1, \"neg\" : 0})\n",
    "x = msg.message\n",
    "y = msg.labelnum"
   ]
  },
  {
   "cell_type": "code",
   "execution_count": 25,
   "id": "55a3a2d1",
   "metadata": {},
   "outputs": [
    {
     "name": "stdout",
     "output_type": "stream",
     "text": [
      "total training instances : 14\n",
      "total testing instances : 4\n"
     ]
    }
   ],
   "source": [
    "from sklearn.model_selection import train_test_split as split\n",
    "x_train, x_test, y_train, y_test = split(x, y, test_size = 0.2)\n",
    "print(f\"total training instances : {x_train.shape[0]}\")\n",
    "print(f\"total testing instances : {x_test.shape[0]}\")"
   ]
  },
  {
   "cell_type": "code",
   "execution_count": 26,
   "id": "b0975683",
   "metadata": {},
   "outputs": [],
   "source": [
    "from sklearn.feature_extraction.text import CountVectorizer\n",
    "cv = CountVectorizer()"
   ]
  },
  {
   "cell_type": "code",
   "execution_count": 12,
   "id": "f19fd2a2",
   "metadata": {},
   "outputs": [
    {
     "ename": "NameError",
     "evalue": "name 'x_train' is not defined",
     "output_type": "error",
     "traceback": [
      "\u001b[1;31m---------------------------------------------------------------------------\u001b[0m",
      "\u001b[1;31mNameError\u001b[0m                                 Traceback (most recent call last)",
      "Cell \u001b[1;32mIn[12], line 1\u001b[0m\n\u001b[1;32m----> 1\u001b[0m xtrain_dtm \u001b[38;5;241m=\u001b[39m cv\u001b[38;5;241m.\u001b[39mfit_transform(x_train)\n\u001b[0;32m      2\u001b[0m xtest_dtm \u001b[38;5;241m=\u001b[39m cv\u001b[38;5;241m.\u001b[39mtransform(x_test)\n\u001b[0;32m      3\u001b[0m \u001b[38;5;28mprint\u001b[39m(\u001b[38;5;124mf\u001b[39m\u001b[38;5;124m\"\u001b[39m\u001b[38;5;124mTotal features extracted using CountVectorizer \u001b[39m\u001b[38;5;132;01m{\u001b[39;00mxtrain_dtm\u001b[38;5;241m.\u001b[39mshape[\u001b[38;5;241m1\u001b[39m]\u001b[38;5;132;01m}\u001b[39;00m\u001b[38;5;124m\"\u001b[39m)\n",
      "\u001b[1;31mNameError\u001b[0m: name 'x_train' is not defined"
     ]
    }
   ],
   "source": [
    "xtrain_dtm = cv.fit_transform(x_train)\n",
    "xtest_dtm = cv.transform(x_test)\n",
    "print(f\"Total features extracted using CountVectorizer {xtrain_dtm.shape[1]}\")\n",
    "print(f\"Features for first 5 training instances are listed below:\")\n",
    "df = pd.DataFrame(xtrain_dtm.toarray(), columns = cv.get_features_names_out())\n",
    "print(df.head())"
   ]
  },
  {
   "cell_type": "code",
   "execution_count": null,
   "id": "e1a3be18",
   "metadata": {},
   "outputs": [],
   "source": []
  }
 ],
 "metadata": {
  "kernelspec": {
   "display_name": "Python 3 (ipykernel)",
   "language": "python",
   "name": "python3"
  },
  "language_info": {
   "codemirror_mode": {
    "name": "ipython",
    "version": 3
   },
   "file_extension": ".py",
   "mimetype": "text/x-python",
   "name": "python",
   "nbconvert_exporter": "python",
   "pygments_lexer": "ipython3",
   "version": "3.10.5"
  }
 },
 "nbformat": 4,
 "nbformat_minor": 5
}
