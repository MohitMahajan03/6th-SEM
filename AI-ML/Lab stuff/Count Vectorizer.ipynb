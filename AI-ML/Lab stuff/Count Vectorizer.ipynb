{
 "cells": [
  {
   "cell_type": "code",
   "execution_count": 1,
   "id": "c4d3f9a4",
   "metadata": {},
   "outputs": [
    {
     "name": "stdout",
     "output_type": "stream",
     "text": [
      "(('J1', 'J2'), ('C1', 'C2'), ('M1', 'M2'))\n"
     ]
    }
   ],
   "source": [
    "a = (\"J1\", \"C1\", \"M1\")\n",
    "b = (\"J2\", \"C2\", \"M2\")\n",
    "x = zip(a, b)\n",
    "print(tuple(x))"
   ]
  },
  {
   "cell_type": "code",
   "execution_count": 4,
   "id": "52cbfd25",
   "metadata": {},
   "outputs": [],
   "source": [
    "from sklearn.feature_extraction.text import CountVectorizer\n",
    "corpus = [\n",
    "    \"This is the first document\",\n",
    "    \"This document is the second document\",\n",
    "    \"And this is the third document\",\n",
    "    \"Is this the first document?\"\n",
    "]"
   ]
  },
  {
   "cell_type": "code",
   "execution_count": 6,
   "id": "935e4e21",
   "metadata": {},
   "outputs": [
    {
     "name": "stdout",
     "output_type": "stream",
     "text": [
      "['and' 'document' 'first' 'is' 'second' 'the' 'third' 'this']\n",
      "[[0 1 1 1 0 1 0 1]\n",
      " [0 2 0 1 1 1 0 1]\n",
      " [1 1 0 1 0 1 1 1]\n",
      " [0 1 1 1 0 1 0 1]]\n"
     ]
    }
   ],
   "source": [
    "vectorizer = CountVectorizer()\n",
    "x = vectorizer.fit_transform(corpus)\n",
    "print(vectorizer.get_feature_names_out())\n",
    "print(x.toarray())"
   ]
  },
  {
   "cell_type": "markdown",
   "id": "0ec8c19d",
   "metadata": {},
   "source": [
    "## Using .csv file"
   ]
  },
  {
   "cell_type": "code",
   "execution_count": 1,
   "id": "11b6ae07",
   "metadata": {},
   "outputs": [],
   "source": [
    "import pandas as pd"
   ]
  },
  {
   "cell_type": "code",
   "execution_count": 2,
   "id": "aa38d07d",
   "metadata": {},
   "outputs": [],
   "source": [
    "msg = pd.read_csv(\"6.csv\")"
   ]
  },
  {
   "cell_type": "code",
   "execution_count": 3,
   "id": "a347f141",
   "metadata": {},
   "outputs": [
    {
     "name": "stdout",
     "output_type": "stream",
     "text": [
      "total no of words in dataset 18\n"
     ]
    }
   ],
   "source": [
    "print(f\"total no of words in dataset {msg.shape[0]}\")\n",
    "msg['labelnum'] = msg.label.map({\"pos\" : 1, \"neg\" : 0})\n",
    "x = msg.message\n",
    "y = msg.labelnum"
   ]
  },
  {
   "cell_type": "code",
   "execution_count": 4,
   "id": "55a3a2d1",
   "metadata": {},
   "outputs": [
    {
     "name": "stdout",
     "output_type": "stream",
     "text": [
      "total training instances : 14\n",
      "total testing instances : 4\n"
     ]
    }
   ],
   "source": [
    "from sklearn.model_selection import train_test_split as split\n",
    "x_train, x_test, y_train, y_test = split(x, y, test_size = 0.2)\n",
    "print(f\"total training instances : {x_train.shape[0]}\")\n",
    "print(f\"total testing instances : {x_test.shape[0]}\")"
   ]
  },
  {
   "cell_type": "code",
   "execution_count": 5,
   "id": "b0975683",
   "metadata": {},
   "outputs": [],
   "source": [
    "from sklearn.feature_extraction.text import CountVectorizer\n",
    "cv = CountVectorizer()"
   ]
  },
  {
   "cell_type": "code",
   "execution_count": 7,
   "id": "f19fd2a2",
   "metadata": {},
   "outputs": [
    {
     "name": "stdout",
     "output_type": "stream",
     "text": [
      "Total features extracted using CountVectorizer 48\n",
      "Features for first 5 training instances are listed below:\n",
      "   about  am  amazing  an  and  awesome  beers  boss  can  deal  ...  tired   \n",
      "0      0   0        0   0    0        0      0     0    0     0  ...      0  \\\n",
      "1      1   0        0   0    0        0      1     0    0     0  ...      0   \n",
      "2      0   0        0   0    0        0      0     0    0     0  ...      0   \n",
      "3      0   0        0   0    0        0      0     0    0     0  ...      0   \n",
      "4      0   0        1   1    0        0      0     0    0     0  ...      0   \n",
      "\n",
      "   to  today  tomorrow  very  we  went  what  will  with  \n",
      "0   1      1         0     0   0     1     0     0     0  \n",
      "1   0      0         0     1   0     0     0     0     0  \n",
      "2   0      0         0     0   0     0     1     0     0  \n",
      "3   0      0         0     0   0     0     0     0     0  \n",
      "4   0      0         0     0   0     0     0     0     0  \n",
      "\n",
      "[5 rows x 48 columns]\n"
     ]
    }
   ],
   "source": [
    "xtrain_dtm = cv.fit_transform(x_train)\n",
    "xtest_dtm = cv.transform(x_test)\n",
    "print(f\"Total features extracted using CountVectorizer {xtrain_dtm.shape[1]}\")\n",
    "print(f\"Features for first 5 training instances are listed below:\")\n",
    "df = pd.DataFrame(xtrain_dtm.toarray(), columns = cv.get_feature_names_out())\n",
    "print(df.head())"
   ]
  },
  {
   "cell_type": "code",
   "execution_count": null,
   "id": "e1a3be18",
   "metadata": {},
   "outputs": [],
   "source": []
  }
 ],
 "metadata": {
  "kernelspec": {
   "display_name": "Python 3 (ipykernel)",
   "language": "python",
   "name": "python3"
  },
  "language_info": {
   "codemirror_mode": {
    "name": "ipython",
    "version": 3
   },
   "file_extension": ".py",
   "mimetype": "text/x-python",
   "name": "python",
   "nbconvert_exporter": "python",
   "pygments_lexer": "ipython3",
   "version": "3.10.5"
  }
 },
 "nbformat": 4,
 "nbformat_minor": 5
}
