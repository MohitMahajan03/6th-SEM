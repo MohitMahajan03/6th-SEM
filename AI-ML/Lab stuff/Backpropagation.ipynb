{
 "cells": [
  {
   "cell_type": "code",
   "execution_count": 2,
   "id": "a971e0ad",
   "metadata": {},
   "outputs": [],
   "source": [
    "import numpy as np\n",
    "\n",
    "x = np.array(([2,9], [1,5], [3,6]), dtype = float)\n",
    "y = np.array(([92], [86], [89]), dtype = float)\n",
    "x = x/np.max(x, axis = 0)\n",
    "y = y/100"
   ]
  },
  {
   "cell_type": "code",
   "execution_count": 3,
   "id": "1d34d310",
   "metadata": {},
   "outputs": [],
   "source": [
    "def sigmoid(x):\n",
    "    return 1/(1 + np.exp(-x))\n",
    "\n",
    "def derivatives_sigmoid(x):\n",
    "    return x*(1-x)"
   ]
  },
  {
   "cell_type": "code",
   "execution_count": 4,
   "id": "e241606e",
   "metadata": {},
   "outputs": [],
   "source": [
    "epoch = 5000\n",
    "lr = 0.1\n",
    "inputlayer_neurons = 2\n",
    "hiddenlayer_neurons = 3\n",
    "outputlayer_neurons = 1"
   ]
  },
  {
   "cell_type": "code",
   "execution_count": 10,
   "id": "a490b4b2",
   "metadata": {},
   "outputs": [],
   "source": [
    "wh = np.random.uniform(size = (inputlayer_neurons, hiddenlayer_neurons))\n",
    "bh = np.random.uniform(size = (1, hiddenlayer_neurons))\n",
    "wout = np.random.uniform(size = (hiddenlayer_neurons, outputlayer_neurons))\n",
    "bout = np.random.uniform(size = (1, outputlayer_neurons))"
   ]
  },
  {
   "cell_type": "code",
   "execution_count": 14,
   "id": "83680fda",
   "metadata": {},
   "outputs": [],
   "source": [
    "for i in range(epoch):\n",
    "    hinp1 = np.dot(x, wh)\n",
    "    hinp = hinp1 + bh\n",
    "    hlayer_act = sigmoid(hinp)\n",
    "    \n",
    "    outinp1 = np.dot(hlayer_act, wout)\n",
    "    outinp = outinp1 + bout\n",
    "    output = sigmoid(outinp)\n",
    "    \n",
    "    EO = y - output\n",
    "    outgrad = derivatives_sigmoid(output)\n",
    "    d_output = EO * outgrad\n",
    "    \n",
    "    EH = d_output.dot(wout.T)\n",
    "    hiddengrad = derivatives_sigmoid(hlayer_act)\n",
    "    d_hidden = EH * hiddengrad\n",
    "    wout += hlayer_act.T.dot(d_output) * lr\n",
    "    wh += x.T.dot(d_hidden) * lr"
   ]
  },
  {
   "cell_type": "code",
   "execution_count": 15,
   "id": "7ba97c70",
   "metadata": {},
   "outputs": [
    {
     "name": "stdout",
     "output_type": "stream",
     "text": [
      "INput : \n",
      " [[0.66666667 1.        ]\n",
      " [0.33333333 0.55555556]\n",
      " [1.         0.66666667]]\n",
      "Actual output : \n",
      " [[0.92]\n",
      " [0.86]\n",
      " [0.89]]\n",
      "Predicted output: \n",
      " [[0.89298367]\n",
      " [0.88448944]\n",
      " [0.89284381]]\n"
     ]
    }
   ],
   "source": [
    "print(\"INput : \\n\", x)\n",
    "print(\"Actual output : \\n\", y)\n",
    "print(\"Predicted output: \\n\", output)"
   ]
  },
  {
   "cell_type": "code",
   "execution_count": null,
   "id": "f83cae07",
   "metadata": {},
   "outputs": [],
   "source": []
  }
 ],
 "metadata": {
  "kernelspec": {
   "display_name": "Python 3 (ipykernel)",
   "language": "python",
   "name": "python3"
  },
  "language_info": {
   "codemirror_mode": {
    "name": "ipython",
    "version": 3
   },
   "file_extension": ".py",
   "mimetype": "text/x-python",
   "name": "python",
   "nbconvert_exporter": "python",
   "pygments_lexer": "ipython3",
   "version": "3.11.4"
  }
 },
 "nbformat": 4,
 "nbformat_minor": 5
}
