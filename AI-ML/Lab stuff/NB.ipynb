{
 "cells": [
  {
   "cell_type": "code",
   "execution_count": null,
   "metadata": {},
   "outputs": [],
   "source": [
    "from sklearn.navie_bayes import GaussianNB\n",
    "from sklearn.datasets import load_iris\n",
    "from sklearn import metrics\n",
    "from sklearn.model_selection import train_test_split"
   ]
  },
  {
   "cell_type": "code",
   "execution_count": null,
   "metadata": {},
   "outputs": [],
   "source": [
    "dataset = load_iris()\n",
    "x = dataset.data\n",
    "y = dataset.target\n",
    "x_train, x_test, y_train, y_test = split(x, y, test_size = 0.2, random_state = 1)\n",
    "gnb = GaussianNB()\n",
    "classifier = gnb.fit(x_train, y_train)\n",
    "y_pred = classifier.predict(x_test)"
   ]
  },
  {
   "cell_type": "code",
   "execution_count": null,
   "metadata": {},
   "outputs": [],
   "source": [
    "print(\"Accuracy Metrics:\", metrics.accuracy_score(y_test, y_pred))\n",
    "print(\"Confusion matrix\")\n",
    "print(metrics.Confusion_matrix(y_test, y_pred))"
   ]
  },
  {
   "cell_type": "code",
   "execution_count": null,
   "metadata": {},
   "outputs": [],
   "source": [
    "# Cancer dataset\n",
    "from sklearn.navie_bayes import GaussianNB\n",
    "from sklearn.datasets import load_breast_cancer\n",
    "from sklearn import metrics\n",
    "from sklearn.model_selection import train_test_split"
   ]
  },
  {
   "cell_type": "code",
   "execution_count": null,
   "metadata": {},
   "outputs": [],
   "source": [
    "cancer = load_breast_cancer()\n",
    "x = cancer.data\n",
    "y = cancer.target\n",
    "x_train, x_test, y_train, y_test = split(x, y, test_size = 0.3)\n",
    "gnb = GaussianNB()\n",
    "\n",
    "clf = gnb.fit(x_train, y_train)\n",
    "predicted = clf.predict(x_test)\n",
    "\n",
    "print(\"Accuracy Metrics:\", metrics.accuracy_score(y_test, y_pred))\n",
    "print(\"Confusion matrix\")\n",
    "print(metrics.Confusion_matrix(y_test, y_pred))"
   ]
  }
 ],
 "metadata": {
  "language_info": {
   "name": "python"
  }
 },
 "nbformat": 4,
 "nbformat_minor": 2
}
