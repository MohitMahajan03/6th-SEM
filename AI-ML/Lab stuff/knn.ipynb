{
 "cells": [
  {
   "cell_type": "markdown",
   "id": "55279cb1",
   "metadata": {},
   "source": [
    "#### Importing "
   ]
  },
  {
   "cell_type": "code",
   "execution_count": 15,
   "id": "74ae3d3b",
   "metadata": {},
   "outputs": [],
   "source": [
    "from sklearn.model_selection import train_test_split\n",
    "from sklearn.neighbors import KNeighborsClassifier\n",
    "from sklearn import datasets"
   ]
  },
  {
   "cell_type": "markdown",
   "id": "6a373807",
   "metadata": {},
   "source": [
    "#### Loading Data"
   ]
  },
  {
   "cell_type": "code",
   "execution_count": 18,
   "id": "7026a2f1",
   "metadata": {},
   "outputs": [],
   "source": [
    "iris = datasets.load_iris()"
   ]
  },
  {
   "cell_type": "markdown",
   "id": "86dd055a",
   "metadata": {},
   "source": [
    "#### Splitting the data"
   ]
  },
  {
   "cell_type": "code",
   "execution_count": 20,
   "id": "7c5e7d51",
   "metadata": {},
   "outputs": [
    {
     "name": "stdout",
     "output_type": "stream",
     "text": [
      "Splitting data...\n",
      "Size of training data and its label (135, 4) (135,)\n",
      "Size of test data and its label (15, 4) (15,)\n"
     ]
    }
   ],
   "source": [
    "x_train, x_test, y_train, y_test = train_test_split(iris.data, iris.target, test_size = 0.1)\n",
    "print(\"Splitting data...\")\n",
    "print(\"Size of training data and its label\", x_train.shape, y_train.shape)\n",
    "print(\"Size of test data and its label\", x_test.shape, y_test.shape)"
   ]
  },
  {
   "cell_type": "markdown",
   "id": "d837ef5a",
   "metadata": {},
   "source": [
    "#### Labels in the given dataset "
   ]
  },
  {
   "cell_type": "code",
   "execution_count": 21,
   "id": "83235a56",
   "metadata": {},
   "outputs": [
    {
     "name": "stdout",
     "output_type": "stream",
     "text": [
      "label 0: setosa\n",
      "label 1: versicolor\n",
      "label 2: virginica\n"
     ]
    }
   ],
   "source": [
    "for i in range(len(iris.target_names)):\n",
    "    print(f\"label {i}: {iris.target_names[i]}\")"
   ]
  },
  {
   "cell_type": "markdown",
   "id": "fef23b95",
   "metadata": {},
   "source": [
    "### Fitting the Model"
   ]
  },
  {
   "cell_type": "code",
   "execution_count": 22,
   "id": "3e197832",
   "metadata": {},
   "outputs": [],
   "source": [
    "k = 1 \n",
    "classifier = KNeighborsClassifier(n_neighbors=k)\n",
    "classifier.fit(x_train, y_train)\n",
    "y_pred = classifier.predict(x_test)"
   ]
  },
  {
   "cell_type": "markdown",
   "id": "82c69e87",
   "metadata": {},
   "source": [
    "#### Predicting Accuracy"
   ]
  },
  {
   "cell_type": "code",
   "execution_count": 25,
   "id": "6a59196d",
   "metadata": {},
   "outputs": [
    {
     "name": "stdout",
     "output_type": "stream",
     "text": [
      "sample [4.9 3.1 1.5 0.1], Actual label: 0, predicted label: 0\n",
      "sample [5.1 2.5 3.  1.1], Actual label: 1, predicted label: 1\n",
      "sample [6.2 2.9 4.3 1.3], Actual label: 1, predicted label: 1\n",
      "sample [5.7 2.8 4.1 1.3], Actual label: 1, predicted label: 1\n",
      "sample [4.6 3.1 1.5 0.2], Actual label: 0, predicted label: 0\n",
      "sample [6.5 2.8 4.6 1.5], Actual label: 1, predicted label: 1\n",
      "sample [6.5 3.  5.8 2.2], Actual label: 2, predicted label: 2\n",
      "sample [7.6 3.  6.6 2.1], Actual label: 2, predicted label: 2\n",
      "sample [6.5 3.  5.5 1.8], Actual label: 2, predicted label: 2\n",
      "sample [5.1 3.8 1.6 0.2], Actual label: 0, predicted label: 0\n",
      "sample [6.8 3.2 5.9 2.3], Actual label: 2, predicted label: 2\n",
      "sample [5.  3.4 1.5 0.2], Actual label: 0, predicted label: 0\n",
      "sample [4.6 3.2 1.4 0.2], Actual label: 0, predicted label: 0\n",
      "sample [5.6 2.7 4.2 1.3], Actual label: 1, predicted label: 1\n",
      "sample [6.3 2.3 4.4 1.3], Actual label: 1, predicted label: 1\n",
      "Accuracy: 1.0\n"
     ]
    }
   ],
   "source": [
    "for i in range(len(x_test)):\n",
    "    print(f\"sample {x_test[i]}, Actual label: {y_test[i]}, predicted label: {y_pred[i]}\")\n",
    "print(f\"Accuracy: {classifier.score(x_test, y_test)}\")"
   ]
  },
  {
   "cell_type": "markdown",
   "id": "898b08e9",
   "metadata": {},
   "source": [
    "#### Metrics"
   ]
  },
  {
   "cell_type": "code",
   "execution_count": 29,
   "id": "3c6a7f9a",
   "metadata": {},
   "outputs": [
    {
     "name": "stdout",
     "output_type": "stream",
     "text": [
      "confusion matrix\n",
      "[[5 0 0]\n",
      " [0 6 0]\n",
      " [0 0 4]]\n",
      "Accuracy Matrix\n",
      "              precision    recall  f1-score   support\n",
      "\n",
      "           0       1.00      1.00      1.00         5\n",
      "           1       1.00      1.00      1.00         6\n",
      "           2       1.00      1.00      1.00         4\n",
      "\n",
      "    accuracy                           1.00        15\n",
      "   macro avg       1.00      1.00      1.00        15\n",
      "weighted avg       1.00      1.00      1.00        15\n",
      "\n"
     ]
    }
   ],
   "source": [
    "from sklearn.metrics import classification_report, confusion_matrix\n",
    "print(\"confusion matrix\")\n",
    "print(confusion_matrix(y_test, y_pred))\n",
    "\n",
    "print(\"Accuracy Matrix\")\n",
    "print(classification_report(y_test, y_pred))"
   ]
  },
  {
   "cell_type": "code",
   "execution_count": null,
   "id": "e61297ca",
   "metadata": {},
   "outputs": [],
   "source": []
  }
 ],
 "metadata": {
  "kernelspec": {
   "display_name": "Python 3 (ipykernel)",
   "language": "python",
   "name": "python3"
  },
  "language_info": {
   "codemirror_mode": {
    "name": "ipython",
    "version": 3
   },
   "file_extension": ".py",
   "mimetype": "text/x-python",
   "name": "python",
   "nbconvert_exporter": "python",
   "pygments_lexer": "ipython3",
   "version": "3.11.4"
  }
 },
 "nbformat": 4,
 "nbformat_minor": 5
}
