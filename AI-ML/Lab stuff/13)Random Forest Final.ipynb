{
 "cells": [
  {
   "cell_type": "markdown",
   "id": "9a2035f7",
   "metadata": {},
   "source": [
    "Apply Random Forest Algorithm on Suitable Datasets\n",
    "\n",
    "Random Forest is an ensemble learning method that constructs a multitude of decision trees at training time and outputs the class that is the mode of the classes (classification) or mean prediction (regression) of the individual trees. \n",
    "\n",
    "In this example:\n",
    "\n",
    "We use RandomForestClassifier from sklearn.ensemble.\n",
    "-Set n_estimators=100 to specify the number of trees in the forest (adjust as needed).\n",
    "-Split the data into training and test sets using train_test_split.\n",
    "-Fit the classifier on the training data using fit.\n",
    "-Predict on the test data using predict.\n",
    "-Evaluate the model’s accuracy using accuracy_score and print a classification report using classification_report.\n",
    "\n",
    "-This example uses the Iris dataset for demonstration purposes. You can replace X and y with your own dataset and adjust parameters (n_estimators, max_depth, etc.) based on your specific problem and requirements.\n",
    "\n",
    "Random Forests are effective for a wide range of tasks due to their ability to handle high-dimensional data, capture complex relationships, and mitigate overfitting compared to individual decision trees. Adjust the number of estimators (n_estimators), as it typically impacts performance and generalization ability."
   ]
  },
  {
   "cell_type": "code",
   "execution_count": 1,
   "id": "63c0d6f0",
   "metadata": {},
   "outputs": [
    {
     "name": "stdout",
     "output_type": "stream",
     "text": [
      "Accuracy: 1.0\n",
      "              precision    recall  f1-score   support\n",
      "\n",
      "      setosa       1.00      1.00      1.00        10\n",
      "  versicolor       1.00      1.00      1.00         9\n",
      "   virginica       1.00      1.00      1.00        11\n",
      "\n",
      "    accuracy                           1.00        30\n",
      "   macro avg       1.00      1.00      1.00        30\n",
      "weighted avg       1.00      1.00      1.00        30\n",
      "\n"
     ]
    }
   ],
   "source": [
    "from sklearn.ensemble import RandomForestClassifier\n",
    "from sklearn.datasets import load_iris\n",
    "from sklearn.model_selection import train_test_split\n",
    "from sklearn.metrics import accuracy_score, classification_report\n",
    "\n",
    "# Load dataset (example using Iris dataset)\n",
    "iris = load_iris()\n",
    "X = iris.data\n",
    "y = iris.target\n",
    "\n",
    "# Split data into training and test sets\n",
    "X_train, X_test, y_train, y_test = train_test_split(X, y, test_size=0.2, random_state=42)\n",
    "\n",
    "# Initialize Random Forest Classifier\n",
    "clf = RandomForestClassifier(n_estimators=100, random_state=42)\n",
    "\n",
    "# Train the model on the training data\n",
    "clf.fit(X_train, y_train)\n",
    "\n",
    "# Predict on the test data\n",
    "y_pred = clf.predict(X_test)\n",
    "\n",
    "# Evaluate accuracy\n",
    "accuracy = accuracy_score(y_test, y_pred)\n",
    "print(f\"Accuracy: {accuracy}\")\n",
    "\n",
    "# Classification report\n",
    "print(classification_report(y_test, y_pred, target_names=iris.target_names))\n"
   ]
  },
  {
   "cell_type": "code",
   "execution_count": null,
   "id": "c156b862",
   "metadata": {},
   "outputs": [],
   "source": []
  }
 ],
 "metadata": {
  "kernelspec": {
   "display_name": "Python 3 (ipykernel)",
   "language": "python",
   "name": "python3"
  },
  "language_info": {
   "codemirror_mode": {
    "name": "ipython",
    "version": 3
   },
   "file_extension": ".py",
   "mimetype": "text/x-python",
   "name": "python",
   "nbconvert_exporter": "python",
   "pygments_lexer": "ipython3",
   "version": "3.11.5"
  }
 },
 "nbformat": 4,
 "nbformat_minor": 5
}
