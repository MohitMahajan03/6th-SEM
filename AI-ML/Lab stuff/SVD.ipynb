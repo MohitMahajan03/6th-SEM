{
 "cells": [
  {
   "cell_type": "code",
   "execution_count": 4,
   "id": "c8e00101",
   "metadata": {},
   "outputs": [
    {
     "data": {
      "text/plain": [
       "array([[0.63789305, 0.54065575, 0.25222185],\n",
       "       [0.00677994, 0.34136061, 0.53601795],\n",
       "       [0.00232474, 0.43482396, 0.04061069],\n",
       "       [0.58103605, 0.64147475, 0.96416404],\n",
       "       [0.30016817, 0.71313382, 0.72839895]])"
      ]
     },
     "execution_count": 4,
     "metadata": {},
     "output_type": "execute_result"
    }
   ],
   "source": [
    "import numpy as np\n",
    "\n",
    "# create a random matrix \n",
    "A = np.random.rand(5, 3)\n",
    "\n",
    "# Perform SVD\n",
    "\n",
    "U, S, VT = np.linalg.svd(A)\n",
    "\n",
    "#Choose number of singular valuesto keep\n",
    "\n",
    "k = 2\n",
    "\n",
    "# Reduce the dimensions\n",
    "\n",
    "U_k = U[:,:k]\n",
    "S_k = np.diag(S[:k])\n",
    "VT_k = VT[:k, :]\n",
    "\n",
    "#Reconstruct the reduced matrix\n",
    "\n",
    "A_reduced = np.dot(U_k, np.dot(S_k, VT_k))\n",
    "A"
   ]
  },
  {
   "cell_type": "code",
   "execution_count": 5,
   "id": "78e01cbb",
   "metadata": {},
   "outputs": [
    {
     "name": "stderr",
     "output_type": "stream",
     "text": [
      "C:\\ProgramData\\anaconda3\\Lib\\site-packages\\paramiko\\transport.py:219: CryptographyDeprecationWarning: Blowfish has been deprecated\n",
      "  \"class\": algorithms.Blowfish,\n"
     ]
    }
   ],
   "source": [
    "from skimage.color import rgb2gray\n",
    "from skimage import data\n",
    "import matplotlib.pyplot as plt\n",
    "import numpy as np\n",
    "from scipy.linalg import svd"
   ]
  },
  {
   "cell_type": "code",
   "execution_count": 8,
   "id": "b92a1631",
   "metadata": {},
   "outputs": [
    {
     "name": "stdout",
     "output_type": "stream",
     "text": [
      "[[ 3  3  2]\n",
      " [ 2  3 -2]]\n",
      "U\n",
      " [[ 0.7815437 -0.6238505]\n",
      " [ 0.6238505  0.7815437]]\n",
      "Singular array\n",
      " [5.54801894 2.86696457]\n",
      "VT\n",
      " [[ 0.64749817  0.7599438   0.05684667]\n",
      " [-0.10759258  0.16501062 -0.9804057 ]\n",
      " [-0.75443354  0.62869461  0.18860838]]\n"
     ]
    }
   ],
   "source": [
    "# Define matrix\n",
    "\n",
    "X = np.array([[3, 3, 2], [2, 3, -2]])\n",
    "print(X)\n",
    "\n",
    "# perform svd\n",
    "\n",
    "U, S, VT = svd(X)\n",
    "\n",
    "# Print Different Components\n",
    "\n",
    "print(\"U\\n\", U)\n",
    "print(\"Singular array\\n\", S)\n",
    "print(\"VT\\n\", VT)\n"
   ]
  },
  {
   "cell_type": "code",
   "execution_count": 12,
   "id": "d13f9af5",
   "metadata": {},
   "outputs": [
    {
     "name": "stdout",
     "output_type": "stream",
     "text": [
      "Matrix A\n",
      " [[ 1  2  3]\n",
      " [ 4  5  6]\n",
      " [ 7  8  9]\n",
      " [10 11 12]]\n",
      "Matrix U\n",
      " [[-0.14087668  0.82471435  0.53358462]\n",
      " [-0.34394629  0.42626394 -0.8036038 ]\n",
      " [-0.54701591  0.02781353  0.00645373]\n",
      " [-0.75008553 -0.37063688  0.26356544]]\n",
      "Matrix S\n",
      " [2.54624074e+01 1.29066168e+00 1.38648772e-15]\n",
      "Matrix VT\n",
      " [[-0.50453315 -0.5745157  -0.64449826]\n",
      " [-0.76077568 -0.05714052  0.64649464]\n",
      " [-0.40824829  0.81649658 -0.40824829]]\n",
      "Reconstructed matrix A\n",
      " [[ 1.  2.  3.]\n",
      " [ 4.  5.  6.]\n",
      " [ 7.  8.  9.]\n",
      " [10. 11. 12.]]\n"
     ]
    }
   ],
   "source": [
    "import numpy as np\n",
    "\n",
    "# Step 2 Create a matrix\n",
    "\n",
    "A = np.array([\n",
    "    [1, 2, 3],\n",
    "    [4, 5, 6],\n",
    "    [7, 8, 9],\n",
    "    [10, 11, 12]\n",
    "])\n",
    "\n",
    "# Step 3 Perform SVD\n",
    "\n",
    "U, S, VT = np.linalg.svd(A, full_matrices = False)\n",
    "\n",
    "print(\"Matrix A\\n\", A)\n",
    "print(\"Matrix U\\n\", U)\n",
    "print(\"Matrix S\\n\", S)\n",
    "print(\"Matrix VT\\n\", VT)\n",
    "\n",
    "# Construct the diagonal matrix for for singular values\n",
    "\n",
    "Sigma = np.diag(S)\n",
    "\n",
    "# Reconstruct the original matrix\n",
    "\n",
    "A_ressurected = np.dot(U, np.dot(Sigma, VT))\n",
    "\n",
    "print(\"Reconstructed matrix A\\n\", A_ressurected)\n"
   ]
  },
  {
   "cell_type": "code",
   "execution_count": null,
   "id": "2d76231c",
   "metadata": {},
   "outputs": [],
   "source": []
  }
 ],
 "metadata": {
  "kernelspec": {
   "display_name": "Python 3 (ipykernel)",
   "language": "python",
   "name": "python3"
  },
  "language_info": {
   "codemirror_mode": {
    "name": "ipython",
    "version": 3
   },
   "file_extension": ".py",
   "mimetype": "text/x-python",
   "name": "python",
   "nbconvert_exporter": "python",
   "pygments_lexer": "ipython3",
   "version": "3.11.4"
  }
 },
 "nbformat": 4,
 "nbformat_minor": 5
}
