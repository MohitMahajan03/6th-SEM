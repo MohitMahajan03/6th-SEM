{
 "cells": [
  {
   "cell_type": "markdown",
   "id": "2aa7459b",
   "metadata": {},
   "source": [
    "## LINEAR REGRESSION"
   ]
  },
  {
   "cell_type": "code",
   "execution_count": 7,
   "id": "d4e143fa",
   "metadata": {},
   "outputs": [
    {
     "name": "stdout",
     "output_type": "stream",
     "text": [
      "Enter the number of rows of data5\n"
     ]
    }
   ],
   "source": [
    "n = int(input(\"Enter the number of rows of data\"))"
   ]
  },
  {
   "cell_type": "code",
   "execution_count": 8,
   "id": "7d16052b",
   "metadata": {},
   "outputs": [],
   "source": [
    "arr = []"
   ]
  },
  {
   "cell_type": "code",
   "execution_count": 9,
   "id": "cd8931e4",
   "metadata": {},
   "outputs": [
    {
     "name": "stdout",
     "output_type": "stream",
     "text": [
      "3\n",
      "5\n",
      "4\n",
      "6\n",
      "6\n",
      "8\n",
      "7\n",
      "10\n",
      "10\n",
      "16\n"
     ]
    }
   ],
   "source": [
    "for i in range(n):\n",
    "    temp = []\n",
    "    for j in range(2):\n",
    "        temp.append(int(input()))   \n",
    "    arr.append(temp)"
   ]
  },
  {
   "cell_type": "code",
   "execution_count": 10,
   "id": "dbd951c0",
   "metadata": {},
   "outputs": [
    {
     "name": "stdout",
     "output_type": "stream",
     "text": [
      "[[3, 5], [4, 6], [6, 8], [7, 10], [10, 16]]\n"
     ]
    }
   ],
   "source": [
    "print(arr)"
   ]
  },
  {
   "cell_type": "code",
   "execution_count": 15,
   "id": "fae856f1",
   "metadata": {},
   "outputs": [
    {
     "name": "stdout",
     "output_type": "stream",
     "text": [
      "[9, 16, 36, 49, 100]\n",
      "[15, 24, 48, 70, 160]\n"
     ]
    }
   ],
   "source": [
    "x_square = []\n",
    "xy = []\n",
    "for i in range(len(arr)):\n",
    "    x_square.append(arr[i][0]**2)\n",
    "    xy.append(arr[i][0]*arr[i][1])\n",
    "    \n",
    "print(x_square)\n",
    "print(xy)"
   ]
  },
  {
   "cell_type": "code",
   "execution_count": 19,
   "id": "577e6ce1",
   "metadata": {},
   "outputs": [
    {
     "name": "stdout",
     "output_type": "stream",
     "text": [
      "1.5666666666666667\n"
     ]
    }
   ],
   "source": [
    "x_sum = 0\n",
    "y_sum = 0\n",
    "for i in range(len(arr)):\n",
    "    x_sum = x_sum + arr[i][0]\n",
    "    y_sum = y_sum + arr[i][1]\n",
    "    \n",
    "slope = ((n*sum(xy) - (x_sum * y_sum)))/((n*sum(x_square)) - (x_sum**2))\n",
    "print(slope)"
   ]
  },
  {
   "cell_type": "code",
   "execution_count": 21,
   "id": "3f4fb4de",
   "metadata": {},
   "outputs": [
    {
     "name": "stdout",
     "output_type": "stream",
     "text": [
      "-0.4\n"
     ]
    }
   ],
   "source": [
    "intercept = (y_sum - (slope*x_sum))/n\n",
    "print(intercept)"
   ]
  },
  {
   "cell_type": "code",
   "execution_count": 24,
   "id": "7278d60a",
   "metadata": {},
   "outputs": [
    {
     "name": "stdout",
     "output_type": "stream",
     "text": [
      "Enter the independent value8\n",
      "Dependent value =  12.133333333333333\n"
     ]
    }
   ],
   "source": [
    "x = int(input(\"Enter the independent value \"))\n",
    "y = slope*x + intercept\n",
    "print(\"Dependent value = \", y)"
   ]
  }
 ],
 "metadata": {
  "kernelspec": {
   "display_name": "Python 3 (ipykernel)",
   "language": "python",
   "name": "python3"
  },
  "language_info": {
   "codemirror_mode": {
    "name": "ipython",
    "version": 3
   },
   "file_extension": ".py",
   "mimetype": "text/x-python",
   "name": "python",
   "nbconvert_exporter": "python",
   "pygments_lexer": "ipython3",
   "version": "3.11.4"
  }
 },
 "nbformat": 4,
 "nbformat_minor": 5
}
