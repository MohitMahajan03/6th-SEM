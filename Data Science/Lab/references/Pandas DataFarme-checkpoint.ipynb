{
 "cells": [
  {
   "cell_type": "markdown",
   "id": "2ef142c4-0b1a-4e49-883e-813122999c05",
   "metadata": {},
   "source": [
    "Pandas DataFrame"
   ]
  },
  {
   "cell_type": "code",
   "execution_count": null,
   "id": "8f4fb3b5-9675-4203-8fa0-83d294405cfc",
   "metadata": {},
   "outputs": [],
   "source": [
    "#pd.DataFrame?\n",
    "StudentData = {\n",
    "    'USN' : [402,405,415],\n",
    "    'Name' : ['Kushal','Priyanka','XYZ'],\n",
    "    'Age' : [22,21,25],\n",
    "    'City' : ['Bengaluru','Mandya','Goa'],\n",
    "}"
   ]
  },
  {
   "cell_type": "code",
   "execution_count": null,
   "id": "5bb7aa1d-f79c-4665-9f25-b2e8ab9b5596",
   "metadata": {},
   "outputs": [],
   "source": [
    "#these key values is converted into columns data \n",
    "Stdata = pd.DataFrame(StudentData)\n",
    "Stdata"
   ]
  },
  {
   "cell_type": "code",
   "execution_count": null,
   "id": "bba6e1e5-7f11-4448-bd33-020e8af52ad3",
   "metadata": {},
   "outputs": [],
   "source": [
    "Stdata = pd.DataFrame(StudentData)\n",
    "Stdata.index = range(1, len(Stdata) + 1) #index starting from 1\n",
    "Stdata"
   ]
  },
  {
   "cell_type": "markdown",
   "id": "ad684b5f-9930-46ef-9c10-70a19746b244",
   "metadata": {},
   "source": [
    "Create a DataFrame from two Series:"
   ]
  },
  {
   "cell_type": "code",
   "execution_count": null,
   "id": "b1e02f6a-c887-4ece-8dba-2e6799d9bfb8",
   "metadata": {},
   "outputs": [],
   "source": [
    "import pandas as pd\n",
    "'''define a dictionary data with two keys: \"calories\" and \"duration\".Each key has a list of values representing the data for those columns.'''\n",
    "data = {\n",
    "  \"calories\": [420, 380, 390],\n",
    "  \"duration\": [50, 40, 45]\n",
    "}\n",
    "#converts the dictionary data into a Pandas DataFrame object\n",
    "myvar = pd.DataFrame(data) \n",
    "print(myvar)"
   ]
  },
  {
   "cell_type": "code",
   "execution_count": null,
   "id": "0987b9df-2672-4625-a57e-79ff2d9dc1ed",
   "metadata": {},
   "outputs": [],
   "source": [
    "import pandas as pd\n",
    "'''The r before the string indicates a raw string which ensures that backslashes are interpreted correctly in the file path.'''\n",
    "df = pd.read_csv(r\"C:\\Users\\ASUS\\Downloads\\data.csv\")\n",
    "'''Using the to_string() method ensures that the entire content of the \n",
    "DataFrame is printed, regardless of its size.'''\n",
    "print(df.to_string())"
   ]
  },
  {
   "cell_type": "markdown",
   "id": "11293cd1-2ac2-46d0-a4af-ad8200225254",
   "metadata": {},
   "source": [
    "Pandas - Cleaning Data\n",
    "\n",
    "The data set contains some empty cells (\"Calories\" in row 17 and 27 so on).\n",
    "\n",
    "The data set contains duplicates (row 101 and 102)."
   ]
  },
  {
   "cell_type": "code",
   "execution_count": null,
   "id": "e5f21614-ff3a-4464-a02a-0728746af6ad",
   "metadata": {},
   "outputs": [],
   "source": [
    "import pandas as pd\n",
    "df = pd.read_csv(r\"C:\\Users\\ASUS\\Downloads\\data.csv\")\n",
    "new_df = df.dropna() #removing all rows DataFrame that contain any missing values\n",
    "print(new_df.to_string())"
   ]
  },
  {
   "cell_type": "code",
   "execution_count": null,
   "id": "8fa3f617-9cf9-423c-8035-97156c9df492",
   "metadata": {},
   "outputs": [],
   "source": [
    "import pandas as pd\n",
    "df = pd.read_csv(r\"C:\\Users\\ASUS\\Downloads\\data.csv\")\n",
    "df.dropna(inplace = True)  #operation is performed without the need for reassignment.\n",
    "print(df.to_string())"
   ]
  },
  {
   "cell_type": "code",
   "execution_count": null,
   "id": "294955e0-c65c-4606-bad6-a2d4f5aaedf9",
   "metadata": {},
   "outputs": [],
   "source": [
    "import pandas as pd\n",
    "df = pd.read_csv(r\"C:\\Users\\ASUS\\Downloads\\data.csv\")\n",
    "df.fillna(130, inplace = True) \n",
    "print(df.to_string())"
   ]
  },
  {
   "cell_type": "markdown",
   "id": "46ff5354-07ef-4908-b1b7-40efa4e9c194",
   "metadata": {},
   "source": [
    "GroupBY"
   ]
  },
  {
   "cell_type": "code",
   "execution_count": null,
   "id": "021ce098-6431-4ec1-a744-7994cae2a137",
   "metadata": {},
   "outputs": [],
   "source": [
    "import pandas as pd\n",
    "# Create a DataFrame\n",
    "data = {'Category': ['A', 'B', 'A', 'B', 'A'],\n",
    "        'Value': [10, 20, 30, 40, 50]}\n",
    "df = pd.DataFrame(data)\n",
    "# Group by 'Category' and calculate the sum of values for each group\n",
    "grouped_df = df.groupby('Category')\n",
    "print(grouped_df)"
   ]
  },
  {
   "cell_type": "code",
   "execution_count": null,
   "id": "2dbc2b14-33b7-42fc-aff4-9b7edca14fcc",
   "metadata": {},
   "outputs": [],
   "source": [
    "for x,y in grouped_df:\n",
    "    print(x)\n",
    "    print(y)"
   ]
  },
  {
   "cell_type": "code",
   "execution_count": null,
   "id": "05997380-b1aa-4b20-be16-f28930d2db3a",
   "metadata": {},
   "outputs": [],
   "source": [
    "grouped_df.get_group(\"A\")"
   ]
  },
  {
   "cell_type": "code",
   "execution_count": null,
   "id": "9480562e-9d59-45d0-8418-ea0b5b81f7da",
   "metadata": {},
   "outputs": [],
   "source": [
    "grouped_df.mean()"
   ]
  },
  {
   "cell_type": "markdown",
   "id": "205b85fa-5310-4e66-bc9e-5800dea7b5a6",
   "metadata": {},
   "source": [
    "concatenation"
   ]
  },
  {
   "cell_type": "code",
   "execution_count": null,
   "id": "5b534cc9-e396-45aa-a9ac-5f6ea8047cff",
   "metadata": {},
   "outputs": [],
   "source": [
    "import pandas as pd\n",
    "# Load the dataset into a DataFrame\n",
    "df1 = pd.read_csv(r\"C:\\Users\\ASUS\\Downloads\\data.csv\")\n",
    "# first few rows (by default, the first 5 rows)\n",
    "print(df1.head())\n",
    "df2 = pd.read_csv(r\"C:\\Users\\ASUS\\Downloads\\data.csv\")\n",
    "print(df2.tail())"
   ]
  },
  {
   "cell_type": "code",
   "execution_count": null,
   "id": "9ae5bd17-f79b-4f12-8220-0230f55845f2",
   "metadata": {},
   "outputs": [],
   "source": [
    "import pandas as pd\n",
    "\n",
    "# CSV file into two separate DataFrames\n",
    "df1 = pd.read_csv(r\"C:\\Users\\ASUS\\Downloads\\data.csv\").head()\n",
    "\n",
    "df2 = pd.read_csv(r\"C:\\Users\\ASUS\\Downloads\\data.csv\").tail()\n",
    "df_concat = pd.concat([df1, df2], ignore_index=True)\n",
    "\n",
    "# Display the concatenated DataFrame\n",
    "print(df_concat)"
   ]
  },
  {
   "cell_type": "markdown",
   "id": "417aeee7-9127-46fa-966f-ee3d24c92a85",
   "metadata": {},
   "source": [
    "merging"
   ]
  },
  {
   "cell_type": "code",
   "execution_count": null,
   "id": "c08b1aa9-6bc3-4c88-8430-508c5b4c23b3",
   "metadata": {},
   "outputs": [],
   "source": [
    "import pandas as pd\n",
    "\n",
    "df = pd.read_csv(r\"C:\\Users\\ASUS\\Downloads\\data.csv\")\n",
    "#with two columns: 'Duration' and 'Activity'.\n",
    "df_merge = pd.DataFrame({\n",
    "    'Duration': [30, 60, 45],\n",
    "    'Activity': ['Running', 'Cycling', 'Swimming']\n",
    "})\n",
    "\n",
    "# Merging the DataFrames based on 'Duration':\n",
    "df_merged = pd.merge(df, df_merge, on='Duration', how='left')\n",
    "'''how='left'specifies that we want to retain all rows from the original DataFrame df, even if there is no matching for in duration.'''\n",
    "# Display the merged DataFrame\n",
    "print(df_merged.to_string())"
   ]
  },
  {
   "cell_type": "markdown",
   "id": "be0c01f3-eaa8-4475-ac21-6355dda2de74",
   "metadata": {},
   "source": [
    "joining"
   ]
  },
  {
   "cell_type": "code",
   "execution_count": null,
   "id": "76db3bf8-bfdd-4dc7-b201-f43e76f68499",
   "metadata": {},
   "outputs": [],
   "source": [
    "import pandas as pd\n",
    "\n",
    "# Load the dataset into a DataFrame\n",
    "df = pd.read_csv(r\"C:\\Users\\ASUS\\Downloads\\data.csv\")\n",
    "\n",
    "# Additional DataFrame for joining\n",
    "df_join = pd.DataFrame({\n",
    "    'Duration': [30, 60, 45],\n",
    "    'Weather': ['Sunny', 'Cloudy', 'Rainy']\n",
    "})\n",
    "\n",
    "# Set 'Duration' as the index for joining\n",
    "df_join.set_index('Duration', inplace=True)\n",
    "'''This line sets the index of the DataFrame df_join to the column 'Duration'.This prepares df_join for joining with df based on the index.'''\n",
    "# Join the DataFrames\n",
    "df_joined = df.join(df_join, how='left', on='Duration')\n",
    "'''joins DataFrame df with df_join based on the index of df_join and the column 'Duration' in df.''' \n",
    "# Display the joined DataFrame\n",
    "print(df_joined)"
   ]
  }
 ],
 "metadata": {
  "kernelspec": {
   "display_name": "Python 3 (ipykernel)",
   "language": "python",
   "name": "python3"
  },
  "language_info": {
   "codemirror_mode": {
    "name": "ipython",
    "version": 3
   },
   "file_extension": ".py",
   "mimetype": "text/x-python",
   "name": "python",
   "nbconvert_exporter": "python",
   "pygments_lexer": "ipython3",
   "version": "3.11.7"
  }
 },
 "nbformat": 4,
 "nbformat_minor": 5
}
