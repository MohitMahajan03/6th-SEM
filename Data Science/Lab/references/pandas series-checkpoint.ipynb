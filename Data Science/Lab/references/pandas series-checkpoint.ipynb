{
 "cells": [
  {
   "cell_type": "code",
   "execution_count": 17,
   "id": "b69cb4ea-522c-4ffe-8665-25f65a6b655e",
   "metadata": {},
   "outputs": [],
   "source": [
    "import pandas as pd #alias "
   ]
  },
  {
   "cell_type": "code",
   "execution_count": 18,
   "id": "1d370fec-0583-4eab-920e-4b699af20469",
   "metadata": {},
   "outputs": [
    {
     "name": "stdout",
     "output_type": "stream",
     "text": [
      "0    1\n",
      "1    7\n",
      "2    2\n",
      "dtype: int64\n"
     ]
    }
   ],
   "source": [
    "a = [1, 7, 2]\n",
    "\n",
    "myvar = pd.Series(a)\n",
    "\n",
    "print(myvar)\n"
   ]
  },
  {
   "cell_type": "code",
   "execution_count": 2,
   "id": "76f6f2a0-8623-4232-8319-39b2ed056a09",
   "metadata": {},
   "outputs": [],
   "source": [
    "s = pd.Series([\"Ind\", \"Aus\", \"NZ\", \"US\"]) "
   ]
  },
  {
   "cell_type": "code",
   "execution_count": 3,
   "id": "97da47de-e0ca-45aa-b8d6-d4f5f069c10a",
   "metadata": {},
   "outputs": [
    {
     "data": {
      "text/plain": [
       "pandas.core.series.Series"
      ]
     },
     "execution_count": 3,
     "metadata": {},
     "output_type": "execute_result"
    }
   ],
   "source": [
    "type(s)"
   ]
  },
  {
   "cell_type": "code",
   "execution_count": 4,
   "id": "b92b79f4-5e5b-414e-8743-c5a77e523bec",
   "metadata": {},
   "outputs": [
    {
     "data": {
      "text/plain": [
       "4"
      ]
     },
     "execution_count": 4,
     "metadata": {},
     "output_type": "execute_result"
    }
   ],
   "source": [
    "len(s)"
   ]
  },
  {
   "cell_type": "code",
   "execution_count": 5,
   "id": "e8a3b5e8-3496-411b-a291-913d16a15ec7",
   "metadata": {},
   "outputs": [
    {
     "data": {
      "text/plain": [
       "0    Ind\n",
       "1    Aus\n",
       "2     NZ\n",
       "3     US\n",
       "dtype: object"
      ]
     },
     "execution_count": 5,
     "metadata": {},
     "output_type": "execute_result"
    }
   ],
   "source": [
    "s"
   ]
  },
  {
   "cell_type": "code",
   "execution_count": 6,
   "id": "876c97a8-33b3-47dd-b114-77a78c553b0b",
   "metadata": {},
   "outputs": [
    {
     "data": {
      "text/plain": [
       "a    5\n",
       "b    4\n",
       "c    3\n",
       "d    2\n",
       "dtype: int64"
      ]
     },
     "execution_count": 6,
     "metadata": {},
     "output_type": "execute_result"
    }
   ],
   "source": [
    "#pd.Series?\n",
    "s = pd.Series([5,4,3,2],index = [\"a\", \"b\", \"c\", \"d\"]) #custom Index\n",
    "s"
   ]
  },
  {
   "cell_type": "code",
   "execution_count": 7,
   "id": "2b6dab4d-9fd8-49e6-b6c3-fd9c78a4143a",
   "metadata": {},
   "outputs": [],
   "source": [
    "#from these data set creating a series\n",
    "cities = [\"Bengaluru\", \"Mysore\", \"Chennai\",\"Hyderbad\"]\n",
    "cost = [50000,40000,35000,40000]"
   ]
  },
  {
   "cell_type": "code",
   "execution_count": 8,
   "id": "6e1a699f-8fdf-4f41-bcdc-417142f3dd02",
   "metadata": {},
   "outputs": [
    {
     "data": {
      "text/plain": [
       "Bengaluru    50000\n",
       "Mysore       40000\n",
       "Chennai      35000\n",
       "Hyderbad     40000\n",
       "dtype: int64"
      ]
     },
     "execution_count": 8,
     "metadata": {},
     "output_type": "execute_result"
    }
   ],
   "source": [
    "sales = pd.Series(cost, index = cities)\n",
    "sales"
   ]
  },
  {
   "cell_type": "code",
   "execution_count": 15,
   "id": "058a3674-ac96-47f9-bf61-549a56a32cc6",
   "metadata": {},
   "outputs": [
    {
     "name": "stdout",
     "output_type": "stream",
     "text": [
      "day1    420\n",
      "day2    380\n",
      "day3    390\n",
      "dtype: int64\n"
     ]
    }
   ],
   "source": [
    "import pandas as pd\n",
    "\n",
    "calories = {\"day1\": 420, \"day2\": 380, \"day3\": 390} #we define a dictionary 'calories'\n",
    "\n",
    "#converts the dictionary calories into a Pandas Series object \n",
    "myvar = pd.Series(calories)\n",
    "\n",
    "print(myvar)"
   ]
  },
  {
   "cell_type": "code",
   "execution_count": 16,
   "id": "22a70047-0017-43d4-971d-020dfef71ac4",
   "metadata": {},
   "outputs": [
    {
     "name": "stdout",
     "output_type": "stream",
     "text": [
      "day1    420\n",
      "day2    380\n",
      "dtype: int64\n"
     ]
    }
   ],
   "source": [
    "import pandas as pd\n",
    "calories = {\"day1\": 420, \"day2\": 380, \"day3\": 390}\n",
    "'''assigns a subset of the original dictionary's keys as the indices for the series.This means only the values corresponding to \"day1\" and \"day2\" from the dictionary will be included in the series.'''\n",
    "myvar = pd.Series(calories, index = [\"day1\", \"day2\"])\n",
    "print(myvar)"
   ]
  },
  {
   "cell_type": "code",
   "execution_count": 20,
   "id": "287c847a-a88c-4318-9cee-4cbc774f4d8a",
   "metadata": {},
   "outputs": [
    {
     "name": "stdout",
     "output_type": "stream",
     "text": [
      "0    1\n",
      "1    2\n",
      "2    3\n",
      "3    4\n",
      "4    5\n",
      "dtype: int64\n",
      "a    100\n",
      "b    200\n",
      "c    300\n",
      "dtype: int64\n",
      "x    1\n",
      "y    2\n",
      "z    3\n",
      "dtype: int64\n"
     ]
    }
   ],
   "source": [
    "import pandas as pd\n",
    "\n",
    "# From a list\n",
    "s1 = pd.Series([1, 2, 3, 4, 5])\n",
    "\n",
    "# From a dictionary\n",
    "s3 = pd.Series({'a': 100, 'b': 200, 'c': 300})\n",
    "\n",
    "# With custom index\n",
    "s4 = pd.Series([1, 2, 3], index=['x', 'y', 'z'])\n",
    "\n",
    "print(s1)\n",
    "print(s3)\n",
    "print(s4)\n"
   ]
  },
  {
   "cell_type": "code",
   "execution_count": 21,
   "id": "1570f43b-4bee-4263-9730-0a0c25d03bfa",
   "metadata": {},
   "outputs": [
    {
     "name": "stdout",
     "output_type": "stream",
     "text": [
      "1\n",
      "100\n",
      "1    2\n",
      "2    3\n",
      "dtype: int64\n",
      "x    1\n",
      "y    2\n",
      "dtype: int64\n"
     ]
    }
   ],
   "source": [
    "# By position\n",
    "print(s1[0])  # Output: 1\n",
    "\n",
    "# By label\n",
    "print(s3['a'])  # Output: 100\n",
    "\n",
    "# Slicing\n",
    "print(s1[1:3])  # Output: 2, 3\n",
    "print(s4['x':'y'])  # Output: x    1, y    2\n"
   ]
  },
  {
   "cell_type": "code",
   "execution_count": 24,
   "id": "cd892bc5-0461-4d88-8735-f59701b5ab89",
   "metadata": {},
   "outputs": [
    {
     "name": "stdout",
     "output_type": "stream",
     "text": [
      "0    3\n",
      "1    4\n",
      "2    5\n",
      "3    6\n",
      "4    7\n",
      "dtype: int64\n",
      "a     90\n",
      "b    190\n",
      "c    290\n",
      "dtype: int64\n",
      "0     2\n",
      "1     4\n",
      "2     6\n",
      "3     8\n",
      "4    10\n",
      "dtype: int64\n",
      "0    0.1\n",
      "1    0.2\n",
      "2    0.3\n",
      "3    0.4\n",
      "4    0.5\n",
      "dtype: float64\n"
     ]
    }
   ],
   "source": [
    "# Addition\n",
    "print(s1 + 2)  # Adds 2 to each element\n",
    "\n",
    "# Subtraction\n",
    "print(s3 - 10)  # Subtracts 10 from each element\n",
    "\n",
    "# Multiplication\n",
    "print(s1 * 2)  # Multiplies each element by 2\n",
    "\n",
    "# Division\n",
    "print(s1/ 10)  # Divides each element by 10\n"
   ]
  },
  {
   "cell_type": "code",
   "execution_count": 27,
   "id": "9e23df0b-f912-40f9-a121-d6977b2740ab",
   "metadata": {},
   "outputs": [
    {
     "name": "stdout",
     "output_type": "stream",
     "text": [
      "15\n",
      "2.0\n",
      "200.0\n",
      "1.5811388300841898\n"
     ]
    }
   ],
   "source": [
    "print(s1.sum())  # Sum of all elements\n",
    "print(s4.mean())  # Mean of all elements\n",
    "print(s3.median())  # Median of all elements\n",
    "print(s1.std())  # Standard deviation of all elements\n"
   ]
  },
  {
   "cell_type": "code",
   "execution_count": 29,
   "id": "af5a15e8-52e1-4633-b7b3-234895f79898",
   "metadata": {},
   "outputs": [
    {
     "name": "stdout",
     "output_type": "stream",
     "text": [
      "0     APPLE\n",
      "1    BANANA\n",
      "2    CHERRY\n",
      "dtype: object\n",
      "0     True\n",
      "1     True\n",
      "2    False\n",
      "dtype: bool\n"
     ]
    }
   ],
   "source": [
    "string = pd.Series(['apple', 'banana', 'cherry'])\n",
    "\n",
    "# Convert to uppercase\n",
    "print(string.str.upper())\n",
    "\n",
    "# Check for substrings\n",
    "print(string.str.contains('a'))\n"
   ]
  },
  {
   "cell_type": "code",
   "execution_count": null,
   "id": "072ffc9e-f2d3-4058-a1fe-cd8118c346c1",
   "metadata": {},
   "outputs": [],
   "source": []
  }
 ],
 "metadata": {
  "kernelspec": {
   "display_name": "Python 3 (ipykernel)",
   "language": "python",
   "name": "python3"
  },
  "language_info": {
   "codemirror_mode": {
    "name": "ipython",
    "version": 3
   },
   "file_extension": ".py",
   "mimetype": "text/x-python",
   "name": "python",
   "nbconvert_exporter": "python",
   "pygments_lexer": "ipython3",
   "version": "3.11.7"
  }
 },
 "nbformat": 4,
 "nbformat_minor": 5
}
