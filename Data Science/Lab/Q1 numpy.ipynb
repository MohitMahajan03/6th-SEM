{
 "cells": [
  {
   "cell_type": "code",
   "execution_count": 1,
   "metadata": {},
   "outputs": [],
   "source": [
    "import numpy as np"
   ]
  },
  {
   "cell_type": "markdown",
   "metadata": {},
   "source": [
    "### Creating Numpy array "
   ]
  },
  {
   "cell_type": "code",
   "execution_count": 4,
   "metadata": {},
   "outputs": [
    {
     "data": {
      "text/plain": [
       "array([0.95827094, 0.48676515, 0.37193983, 0.8478209 , 0.45252868,\n",
       "       0.09007712, 0.83920199, 0.92623283, 0.39575424, 0.32346455])"
      ]
     },
     "execution_count": 4,
     "metadata": {},
     "output_type": "execute_result"
    }
   ],
   "source": [
    "arr = np.random.rand(10)\n",
    "arr"
   ]
  },
  {
   "cell_type": "markdown",
   "metadata": {},
   "source": [
    "### 4 Arithmetic Operations"
   ]
  },
  {
   "cell_type": "code",
   "execution_count": 6,
   "metadata": {},
   "outputs": [
    {
     "data": {
      "text/plain": [
       "(array([0.90905539, 0.80272166, 0.15990637, 0.80295638, 0.46627652,\n",
       "        0.8602018 , 0.87771089, 0.50681716, 0.50335213, 0.73954083]),\n",
       " array([0.06974244, 0.53032963, 0.19866685, 0.90986002, 0.0907904 ,\n",
       "        0.93492645, 0.3114941 , 0.72970775, 0.0316456 , 0.19571057]))"
      ]
     },
     "execution_count": 6,
     "metadata": {},
     "output_type": "execute_result"
    }
   ],
   "source": [
    "arr1 = np.random.rand(10)\n",
    "arr2 = np.random.rand(10)\n",
    "arr1, arr2"
   ]
  },
  {
   "cell_type": "code",
   "execution_count": 9,
   "metadata": {},
   "outputs": [
    {
     "data": {
      "text/plain": [
       "(array([0.97879783, 1.33305129, 0.35857321, 1.7128164 , 0.55706692,\n",
       "        1.79512825, 1.18920499, 1.23652491, 0.53499773, 0.9352514 ]),\n",
       " array([ 0.83931295,  0.27239203, -0.03876048, -0.10690364,  0.37548611,\n",
       "        -0.07472465,  0.56621678, -0.22289059,  0.47170652,  0.54383025]),\n",
       " array([0.06339974, 0.42570708, 0.03176809, 0.73057791, 0.04233343,\n",
       "        0.80422542, 0.27340177, 0.36982841, 0.01592888, 0.14473596]),\n",
       " array([13.034465  ,  1.51362779,  0.8048971 ,  0.8825054 ,  5.13574682,\n",
       "         0.9200743 ,  2.81774479,  0.69454814, 15.90590965,  3.77874741]))"
      ]
     },
     "execution_count": 9,
     "metadata": {},
     "output_type": "execute_result"
    }
   ],
   "source": [
    "add = arr1 + arr2\n",
    "sub = arr1 - arr2\n",
    "mul = arr1 * arr2\n",
    "div = arr1/arr2 \n",
    "\n",
    "add, sub, mul, div"
   ]
  },
  {
   "cell_type": "markdown",
   "metadata": {},
   "source": [
    "### Indexing"
   ]
  },
  {
   "cell_type": "code",
   "execution_count": 26,
   "metadata": {},
   "outputs": [],
   "source": [
    "arr2d = np.array(([1, 2, 3, 4], [5, 6, 7, 8], [9, 10, 11, 12]))\n",
    "arr1d = np.array((1, 2, 3, 4, 5, 6, 7, 8, 9, 10, 11, 12))"
   ]
  },
  {
   "cell_type": "code",
   "execution_count": 27,
   "metadata": {},
   "outputs": [
    {
     "name": "stdout",
     "output_type": "stream",
     "text": [
      "5\n",
      "8\n"
     ]
    }
   ],
   "source": [
    "print(arr1d[4])\n",
    "print(arr2d[1][3])"
   ]
  },
  {
   "cell_type": "markdown",
   "metadata": {},
   "source": [
    "### Slicing"
   ]
  },
  {
   "cell_type": "code",
   "execution_count": 31,
   "metadata": {},
   "outputs": [
    {
     "name": "stdout",
     "output_type": "stream",
     "text": [
      "[2 3 4 5]\n",
      "[ 2  4  6  8 10]\n",
      "[ 1  3  5  7  9 11]\n",
      "[ 9 10 11]\n"
     ]
    }
   ],
   "source": [
    "print(arr1d[1:5]) # slicing from index 1 to index 4\n",
    "print(arr1d[1:10:2]) # print elements from index 1 to 10 with step 2\n",
    "print(arr1d[::2]) # prints every other element in the array\n",
    "print(arr1d[-4:-1]) # negative indexing"
   ]
  },
  {
   "cell_type": "markdown",
   "metadata": {},
   "source": [
    "### Broadcasting Array"
   ]
  },
  {
   "cell_type": "code",
   "execution_count": 32,
   "metadata": {},
   "outputs": [
    {
     "name": "stdout",
     "output_type": "stream",
     "text": [
      "[ 4.  8. 12. 16. 20. 24. 28. 32. 36. 40. 44. 48.]\n"
     ]
    }
   ],
   "source": [
    "b = 4.0\n",
    "arr = arr1d * b\n",
    "print(arr)"
   ]
  }
 ],
 "metadata": {
  "kernelspec": {
   "display_name": "Python 3",
   "language": "python",
   "name": "python3"
  },
  "language_info": {
   "codemirror_mode": {
    "name": "ipython",
    "version": 3
   },
   "file_extension": ".py",
   "mimetype": "text/x-python",
   "name": "python",
   "nbconvert_exporter": "python",
   "pygments_lexer": "ipython3",
   "version": "3.10.5"
  }
 },
 "nbformat": 4,
 "nbformat_minor": 2
}
